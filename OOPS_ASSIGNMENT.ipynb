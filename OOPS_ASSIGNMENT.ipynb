{
 "cells": [
  {
   "cell_type": "markdown",
   "id": "4bfb2d60",
   "metadata": {},
   "source": [
    "# OOPS ASSIGNMENT"
   ]
  },
  {
   "cell_type": "markdown",
   "id": "7e598beb",
   "metadata": {},
   "source": [
    "## Theoritical Questions"
   ]
  },
  {
   "cell_type": "markdown",
   "id": "a69a209f",
   "metadata": {},
   "source": [
    "#### Question 1: What is Object-Oriented Programming (OOP)?\n",
    "\n",
    "#### Answer 1:\n",
    " OOP is a programming paradigm based on the concept of objects — which are instances of classes. It helps organize code using principles like:\n",
    "\n",
    " Encapsulation\n",
    "\n",
    " Abstraction\n",
    "\n",
    " Inheritance\n",
    "\n",
    " Polymorphism\n",
    "\n",
    "____________________________________________________"
   ]
  },
  {
   "cell_type": "markdown",
   "id": "39aaa390",
   "metadata": {},
   "source": [
    "#### Question 2: What is a class in OOP+\n",
    "\n",
    "#### Answer 2:\n",
    "\n",
    " A class is a blueprint for creating objects. It defines attributes (data) and methods (functions) that the object will have.\n",
    "\n",
    "--------------------------------------------"
   ]
  },
  {
   "cell_type": "markdown",
   "id": "b64e2101",
   "metadata": {},
   "source": [
    "#### Question 3: What is an object in OOP?\n",
    "\n",
    "#### Answer 3:\n",
    "\n",
    " An object is an instance of a class. It contains data and behavior defined by its class.\n",
    "\n",
    "\n",
    "____________________________________________________\n"
   ]
  },
  {
   "cell_type": "markdown",
   "id": "7ff1e2fa",
   "metadata": {},
   "source": [
    "#### Question 4: Difference between Abstraction and Encapsulation.\n",
    "\n",
    "#### Answer 4:\n",
    " Abstraction: Hides internal details and shows only relevant information\n",
    "\n",
    " Encapsulation: Bundles data and methods into a single unit and restricts access\n",
    "\n",
    "_________________________________________________\n"
   ]
  },
  {
   "cell_type": "markdown",
   "id": "3ea4f6ea",
   "metadata": {},
   "source": [
    "#### Question 5: What are dunder methods in Python?\n",
    "\n",
    "#### Answer 5:\n",
    " \"Dunder\" stands for double underscore. These are special methods like __init__, __str__, __repr__, used to define custom behaviors for objects.\n",
    "\n",
    " Example:\n",
    " def __str__(self):\n",
    "    return \"String representation of object\"\n",
    "\n",
    "-----------------------------------------------------"
   ]
  },
  {
   "cell_type": "markdown",
   "id": "bee0f72b",
   "metadata": {},
   "source": [
    "#### Question 6: Explain the concept of inheritance in OOP\n",
    "\n",
    "#### Answer 6:\n",
    " Inheritance allows one class (child) to inherit properties and methods from another (parent), promoting code reuse."
   ]
  },
  {
   "cell_type": "code",
   "execution_count": 11,
   "id": "0ba8f44b",
   "metadata": {},
   "outputs": [],
   "source": [
    "## Example \n",
    "class Animal:\n",
    "    def speak(self): print(\"Animal sound\")\n",
    "\n",
    "class Dog(Animal):\n",
    "    pass\n"
   ]
  },
  {
   "cell_type": "markdown",
   "id": "393d919a",
   "metadata": {},
   "source": [
    "________________________________________________"
   ]
  },
  {
   "cell_type": "markdown",
   "id": "ae2d4968",
   "metadata": {},
   "source": [
    "#### Question 7: What is polymorphism in OOP?\n",
    "\n",
    "#### Answer 7:\n",
    " Polymorphism means \"many forms\" — it allows different objects to use the same interface but behave differently.\n",
    "\n",
    " Polymorphism in OOPS take place on two ways:\n",
    " 1) Method overloading\n",
    " 2) Method Over-riding\n",
    "\n",
    "-------------------------------------------"
   ]
  },
  {
   "cell_type": "markdown",
   "id": "4c464f24",
   "metadata": {},
   "source": [
    "#### Question 8: How is encapsulation achieved in Python?\n",
    "\n",
    "#### Answer 8:\n",
    "\n",
    " Encapsulation is achieved by making attributes private (prefix with _ or __) and using getter/setter methods."
   ]
  },
  {
   "cell_type": "code",
   "execution_count": 12,
   "id": "f74c63fe",
   "metadata": {},
   "outputs": [],
   "source": [
    "## Example:\n",
    "\n",
    "class Person:\n",
    "    def __init__(self):\n",
    "        self.__age = 0\n",
    "\n",
    "    def set_age(self, age):\n",
    "        self.__age = age\n"
   ]
  },
  {
   "cell_type": "markdown",
   "id": "89c9313e",
   "metadata": {},
   "source": [
    "____________________________________________"
   ]
  },
  {
   "cell_type": "markdown",
   "id": "d042708c",
   "metadata": {},
   "source": [
    "#### Question 9: What is a constructor in Python?\n",
    "\n",
    "#### Answer 9:\n",
    " A constructor is a special method called when an object is created. In Python, it’s __init__().\n",
    "\n",
    "__________________________________________________________"
   ]
  },
  {
   "cell_type": "markdown",
   "id": "5dc05273",
   "metadata": {},
   "source": [
    "#### Question 10: What are class and static methods in Python?\n",
    "\n",
    "#### Answer 10:\n",
    " Class Method: Uses @classmethod, takes cls as the first argument.\n",
    "\n",
    " Static Method: Uses @staticmethod, takes no self or cls.\n",
    "\n",
    "________________________________________"
   ]
  },
  {
   "cell_type": "markdown",
   "id": "6c2c8fc0",
   "metadata": {},
   "source": [
    "#### Question 11: What is method overloading in Python?\n",
    "\n",
    "#### Answer 11:\n",
    " Python does not support traditional method overloading. You can simulate it using default or variable-length arguments.\n",
    "\n",
    "---------------------------------------------"
   ]
  },
  {
   "cell_type": "markdown",
   "id": "13d4f517",
   "metadata": {},
   "source": [
    "#### Question 12: What is method overriding in OOP?\n",
    "\n",
    "#### Answer 12:\n",
    " Overriding means a child class redefines a method from the parent class.\n",
    "\n",
    "----------------------------------------------------------"
   ]
  },
  {
   "cell_type": "markdown",
   "id": "5f791f06",
   "metadata": {},
   "source": [
    "#### Question 13: What is a property decorator in Python?\n",
    "\n",
    "#### Answer 13:\n",
    " The @property decorator allows a method to be accessed like an attribute.\n",
    "\n",
    "____________________________________________"
   ]
  },
  {
   "cell_type": "markdown",
   "id": "c5c9e244",
   "metadata": {},
   "source": [
    "#### Question 14: Why is polymorphism important in OOP?\n",
    "\n",
    "#### Answer 14:\n",
    " Polymorphism allows code to be more flexible, reusable, and scalable, as the same method can work on different object types\n",
    "\n",
    "-------------------------------------------------------"
   ]
  },
  {
   "cell_type": "markdown",
   "id": "a77de4e4",
   "metadata": {},
   "source": [
    "#### Question 15: What is an abstract class in Python?\n",
    "\n",
    "#### Answer 15:\n",
    " An abstract class is a class that cannot be instantiated and may contain abstract methods (no implementation).\n",
    "\n",
    "_____________________________________________\n"
   ]
  },
  {
   "cell_type": "markdown",
   "id": "fd4c0f35",
   "metadata": {},
   "source": [
    "#### Question 16: What are the advantages of OOP?\n",
    "\n",
    "#### Answer 16: \n",
    "\n",
    "Advantages of Object-Oriented Programming:\n",
    "\n",
    "Modularity – Classes and objects make the code more organized.\n",
    "\n",
    "Reusability – Inheritance allows reuse of existing code.\n",
    "\n",
    "Encapsulation – Keeps internal state private and secure.\n",
    "\n",
    "Abstraction – Hides unnecessary complexity.\n",
    "\n",
    "Polymorphism – Enables flexibility by allowing objects to be treated as instances of their parent class.\n",
    "\n",
    "Scalability & Maintainability – Easier to manage and extend.\n",
    "\n",
    "_______________________________________________________"
   ]
  },
  {
   "cell_type": "markdown",
   "id": "7d6380fa",
   "metadata": {},
   "source": [
    "#### Qusestion 17:  What is the difference between a class variable and an instance variable?\n",
    "\n",
    "#### Answer 17:\n",
    " Class variable belongs to the class and it is shared among all instances  and defined inside the class.\n",
    "\n",
    " on the orther hand instance variable belongs to each object and shared with only one object and is defined inside __init__() or any method\n",
    "\n",
    "__________________________________________________\n"
   ]
  },
  {
   "cell_type": "markdown",
   "id": "7ca24671",
   "metadata": {},
   "source": [
    "#### Question 18: What is multiple inheritance in Python?\n",
    "\n",
    "#### Answer 18:\n",
    " Multiple inheritance allows a class to inherit from more than one parent class."
   ]
  },
  {
   "cell_type": "markdown",
   "id": "0aceb473",
   "metadata": {},
   "source": [
    "#### Question 19: Explain the purpose of __str__() and __repr__() methods in Python\n",
    "\n",
    "#### Answer 19:\n",
    " __str__()'s purpose is to display the string and is used  by print()\n",
    " where as __rep__( )'s purpose is represent unambiguous string (for debugging) and used by rep(),shell\n",
    "\n",
    "------------------------------------------------------------"
   ]
  },
  {
   "cell_type": "markdown",
   "id": "1a08676c",
   "metadata": {},
   "source": [
    "#### Question 20: What is the significance of the super() function in Python?\n",
    "\n",
    "#### Answer 20:\n",
    " super() is used to call methods from the parent class in a child class, especially useful in inheritance."
   ]
  },
  {
   "cell_type": "code",
   "execution_count": 13,
   "id": "d00fa723",
   "metadata": {},
   "outputs": [],
   "source": [
    "## Example:\n",
    "\n",
    "class Parent:\n",
    "    def greet(self): print(\"Hi from Parent\")\n",
    "\n",
    "class Child(Parent):\n",
    "    def greet(self):\n",
    "        super().greet()  # Calls Parent's greet\n",
    "        print(\"Hi from Child\")\n"
   ]
  },
  {
   "cell_type": "markdown",
   "id": "b8f8b336",
   "metadata": {},
   "source": [
    "#### Qestion 21: What is the significance of the __del__ method in Python?\n",
    "\n",
    "#### Answer 21:\n",
    " The __del__() method is the destructor, automatically called when an object is about to be destroyed. Useful for cleanup actions like closing files or releasing resources.\n",
    "_____________________________________________________\n",
    "\n"
   ]
  },
  {
   "cell_type": "markdown",
   "id": "018a56af",
   "metadata": {},
   "source": [
    "#### Question 22: What is the difference between @staticmethod and @classmethod in Python?\n",
    "\n",
    "#### Answer 21:\n",
    " @staticmethod:It has no first argument, no access within class/object and is utility function\n",
    "\n",
    " \n",
    " @classmethod: Its first argument in cls and has access for class/object and it is a factory method(class level logic)\n",
    "\n",
    "-------------------------------------------------------"
   ]
  },
  {
   "cell_type": "markdown",
   "id": "b7346138",
   "metadata": {},
   "source": [
    "#### Question 23: How does polymorphism work in Python with inheritance?\n",
    "\n",
    "#### Answer 23:\n",
    "  Polymorphism allows different subclasses to have different implementations of the same method, while maintaining a common interface.\n",
    "  \n",
    "  Each object uses its own version of the method, even though they're treated the same (for examples animals).\n",
    "______________________________________________________\n",
    "\n"
   ]
  },
  {
   "cell_type": "markdown",
   "id": "370ee0f9",
   "metadata": {},
   "source": [
    "#### Question 24: What is method chaining in Python OOP?\n",
    "\n",
    "#### Answer 24:\n",
    " Method chaining lets you call multiple methods one after another on the same object — usually by returning self from each method.\n",
    "\n",
    "___________________________________________________"
   ]
  },
  {
   "cell_type": "markdown",
   "id": "0b603a6c",
   "metadata": {},
   "source": [
    "#### Question 25: What is the purpose of the __call__ method in Python?\n",
    "\n",
    "#### Answer 25:\n",
    " The __call__() method makes an object callable like a function.\n",
    " Great for function objects, decorators, and advanced patterns.\n",
    "\n",
    "________________________________________________________"
   ]
  },
  {
   "cell_type": "markdown",
   "id": "b3d1d63a",
   "metadata": {},
   "source": [
    "## Practicle Questions"
   ]
  },
  {
   "cell_type": "code",
   "execution_count": 14,
   "id": "06bb69e5",
   "metadata": {},
   "outputs": [
    {
     "name": "stdout",
     "output_type": "stream",
     "text": [
      "The animals make a sound\n",
      "bark\n"
     ]
    }
   ],
   "source": [
    "## 1. Create a parent class Animal with a method speak() that prints a generic message. Create a child class Dog that overrides the speak() method to print \"Bark!\".\n",
    "\n",
    "## Code\n",
    "\n",
    "class Animal:\n",
    "    def speak(self):\n",
    "        print(\"The animals make a sound\")\n",
    "\n",
    "class Dog(Animal):\n",
    "    def speak(self):\n",
    "        print(\"bark\")\n",
    "        \n",
    "generic_animal=Animal()\n",
    "generic_animal.speak()\n",
    "\n",
    "dog=Dog()\n",
    "dog.speak()\n",
    "    \n",
    "\n"
   ]
  },
  {
   "cell_type": "code",
   "execution_count": 15,
   "id": "9d7fc351",
   "metadata": {},
   "outputs": [
    {
     "name": "stdout",
     "output_type": "stream",
     "text": [
      "Area of Circle: 78.54\n",
      "Area of Rectangle: 24\n"
     ]
    }
   ],
   "source": [
    "## Question 2: Write a program to create an abstract class Shape with a method area(). Derive classes Circle and Rectangle from it and implement the area() method in both.\n",
    "\n",
    "## code:\n",
    "from abc import ABC, abstractmethod\n",
    "import math\n",
    "\n",
    "# Abstract base class\n",
    "class Shape(ABC):\n",
    "    @abstractmethod\n",
    "    def area(self):\n",
    "        pass\n",
    "\n",
    "# Derived class: Circle\n",
    "class Circle(Shape):\n",
    "    def __init__(self, radius):\n",
    "        self.radius = radius\n",
    "\n",
    "    def area(self):\n",
    "        return math.pi * self.radius * self.radius\n",
    "\n",
    "# Derived class: Rectangle\n",
    "class Rectangle(Shape):\n",
    "    def __init__(self, length, width):\n",
    "        self.length = length\n",
    "        self.width = width\n",
    "\n",
    "    def area(self):\n",
    "        return self.length * self.width\n",
    "\n",
    "# Testing the classes\n",
    "circle = Circle(5)\n",
    "rectangle = Rectangle(4, 6)\n",
    "\n",
    "print(f\"Area of Circle: {circle.area():.2f}\")       # Output: Area of Circle: 78.54\n",
    "print(f\"Area of Rectangle: {rectangle.area()}\")     # Output: Area of Rectangle: 24\n",
    "\n"
   ]
  },
  {
   "cell_type": "code",
   "execution_count": 16,
   "id": "dd7671b0",
   "metadata": {},
   "outputs": [
    {
     "name": "stdout",
     "output_type": "stream",
     "text": [
      "Type: Car, Brand: Tesla, Battery: 100 kWh\n"
     ]
    }
   ],
   "source": [
    "## Question 3: Implement a multi-level inheritance scenario where a class Vehicle has an attribute type. Derive a class Car and further derive a class ElectricCar that adds a battery attribute.\n",
    "\n",
    "## code:\n",
    "\n",
    "class Vehicle:\n",
    "    def __init__(self, vehicle_type):\n",
    "        self.type = vehicle_type\n",
    "\n",
    "class Car(Vehicle):\n",
    "    def __init__(self, vehicle_type, brand):\n",
    "        super().__init__(vehicle_type)\n",
    "        self.brand = brand\n",
    "\n",
    "class ElectricCar(Car):\n",
    "    def __init__(self, vehicle_type, brand, battery):\n",
    "        super().__init__(vehicle_type, brand)\n",
    "        self.battery = battery\n",
    "\n",
    "# Test\n",
    "e_car = ElectricCar(\"Car\", \"Tesla\", \"100 kWh\")\n",
    "print(f\"Type: {e_car.type}, Brand: {e_car.brand}, Battery: {e_car.battery}\")\n"
   ]
  },
  {
   "cell_type": "code",
   "execution_count": 17,
   "id": "f0945a2d",
   "metadata": {},
   "outputs": [
    {
     "name": "stdout",
     "output_type": "stream",
     "text": [
      "Sparrow flies high!\n",
      "Penguins can't fly, but they swim well!\n"
     ]
    }
   ],
   "source": [
    "## Question 4: . Demonstrate polymorphism by creating a base class Bird with a method fly(). Create two derived classes Sparrow and Penguin that override the fly() method.\n",
    "\n",
    "## Code:\n",
    "class Bird:\n",
    "    def fly(self):\n",
    "        print(\"Some birds can fly.\")\n",
    "\n",
    "class Sparrow(Bird):\n",
    "    def fly(self):\n",
    "        print(\"Sparrow flies high!\")\n",
    "\n",
    "class Penguin(Bird):\n",
    "    def fly(self):\n",
    "        print(\"Penguins can't fly, but they swim well!\")\n",
    "\n",
    "# Test\n",
    "birds = [Sparrow(), Penguin()]\n",
    "for bird in birds:\n",
    "    bird.fly()\n",
    "\n"
   ]
  },
  {
   "cell_type": "code",
   "execution_count": 18,
   "id": "d68f82cd",
   "metadata": {},
   "outputs": [
    {
     "name": "stdout",
     "output_type": "stream",
     "text": [
      "Balance: 1200\n"
     ]
    }
   ],
   "source": [
    "## Question 5:  Write a program to demonstrate encapsulation by creating a class BankAccount with private attributes balance and methods to deposit, withdraw, and check balance.\n",
    "\n",
    "## Code:\n",
    "\n",
    "class BankAccount:\n",
    "    def __init__(self, balance=0):\n",
    "        self.__balance = balance  # Private attribute\n",
    "\n",
    "    def deposit(self, amount):\n",
    "        if amount > 0:\n",
    "            self.__balance += amount\n",
    "\n",
    "    def withdraw(self, amount):\n",
    "        if 0 < amount <= self.__balance:\n",
    "            self.__balance -= amount\n",
    "        else:\n",
    "            print(\"Insufficient funds.\")\n",
    "\n",
    "    def check_balance(self):\n",
    "        return self.__balance\n",
    "\n",
    "# Test\n",
    "acc = BankAccount(1000)\n",
    "acc.deposit(500)\n",
    "acc.withdraw(300)\n",
    "print(\"Balance:\", acc.check_balance())\n",
    "\n"
   ]
  },
  {
   "cell_type": "code",
   "execution_count": 19,
   "id": "532b81f0",
   "metadata": {},
   "outputs": [
    {
     "name": "stdout",
     "output_type": "stream",
     "text": [
      "Strumming the guitar\n",
      "Playing the piano\n"
     ]
    }
   ],
   "source": [
    "## Question 6: Demonstrate runtime polymorphism using a method play() in a base class Instrument. Derive classes Guitar and Piano that implement their own version of play().\n",
    "\n",
    "## Code:\n",
    "class Instrument:\n",
    "    def play(self):\n",
    "        print(\"Instrument is playing\")\n",
    "\n",
    "class Guitar(Instrument):\n",
    "    def play(self):\n",
    "        print(\"Strumming the guitar\")\n",
    "\n",
    "class Piano(Instrument):\n",
    "    def play(self):\n",
    "        print(\"Playing the piano\")\n",
    "\n",
    "# Test\n",
    "instruments = [Guitar(), Piano()]\n",
    "for inst in instruments:\n",
    "    inst.play()\n",
    "\n"
   ]
  },
  {
   "cell_type": "code",
   "execution_count": 20,
   "id": "efc83d1e",
   "metadata": {},
   "outputs": [
    {
     "name": "stdout",
     "output_type": "stream",
     "text": [
      "Add: 15\n",
      "Subtract: 5\n"
     ]
    }
   ],
   "source": [
    "## Question 7:  Create a class MathOperations with a class method add_numbers() to add two numbers and a static method subtract_numbers() to subtract two numbers.\n",
    "\n",
    "## Code:\n",
    "\n",
    "class MathOperations:\n",
    "    @classmethod\n",
    "    def add_numbers(cls, a, b):\n",
    "        return a + b\n",
    "\n",
    "    @staticmethod\n",
    "    def subtract_numbers(a, b):\n",
    "        return a - b\n",
    "\n",
    "# Test\n",
    "print(\"Add:\", MathOperations.add_numbers(10, 5))\n",
    "print(\"Subtract:\", MathOperations.subtract_numbers(10, 5))\n",
    "\n",
    "\n"
   ]
  },
  {
   "cell_type": "code",
   "execution_count": 21,
   "id": "b98a8110",
   "metadata": {},
   "outputs": [
    {
     "name": "stdout",
     "output_type": "stream",
     "text": [
      "Total persons created: 2\n"
     ]
    }
   ],
   "source": [
    "## Question 8:  Implement a class Person with a class method to count the total number of persons created\n",
    "\n",
    "##Code:\n",
    "class Person:\n",
    "    count = 0\n",
    "\n",
    "    def __init__(self, name):\n",
    "        self.name = name\n",
    "        Person.count += 1\n",
    "\n",
    "    @classmethod\n",
    "    def total_persons(cls):\n",
    "        return cls.count\n",
    "\n",
    "# Test\n",
    "p1 = Person(\"Alice\")\n",
    "p2 = Person(\"Bob\")\n",
    "print(\"Total persons created:\", Person.total_persons())\n",
    "\n",
    "\n"
   ]
  },
  {
   "cell_type": "code",
   "execution_count": 22,
   "id": "e94aa725",
   "metadata": {},
   "outputs": [
    {
     "name": "stdout",
     "output_type": "stream",
     "text": [
      "3/4\n"
     ]
    }
   ],
   "source": [
    "## Question 9: Write a class Fraction with attributes numerator and denominator. Override the str method to display  fraction as \"numerator/denominator\n",
    "\n",
    "## Code:\n",
    "class Fraction:\n",
    "    def __init__(self, numerator, denominator):\n",
    "        self.numerator = numerator\n",
    "        self.denominator = denominator\n",
    "\n",
    "    def __str__(self):\n",
    "        return f\"{self.numerator}/{self.denominator}\"\n",
    "\n",
    "# Test\n",
    "frac = Fraction(3, 4)\n",
    "print(frac)  # Output: 3/4\n"
   ]
  },
  {
   "cell_type": "code",
   "execution_count": 23,
   "id": "f5e5bf77",
   "metadata": {},
   "outputs": [
    {
     "name": "stdout",
     "output_type": "stream",
     "text": [
      "Vector(6, 8)\n"
     ]
    }
   ],
   "source": [
    "## Question 10:  Demonstrate operator overloading by creating a class Vector and overriding the add method to add two vectors\n",
    "\n",
    "## Code:\n",
    "class Vector:\n",
    "    def __init__(self, x, y):\n",
    "        self.x = x\n",
    "        self.y = y\n",
    "\n",
    "    def __add__(self, other):\n",
    "        return Vector(self.x + other.x, self.y + other.y)\n",
    "\n",
    "    def __str__(self):\n",
    "        return f\"Vector({self.x}, {self.y})\"\n",
    "\n",
    "# Example usage:\n",
    "v1 = Vector(2, 3)\n",
    "v2 = Vector(4, 5)\n",
    "v3 = v1 + v2\n",
    "print(v3)  # Output: Vector(6, 8)\n",
    "\n"
   ]
  },
  {
   "cell_type": "code",
   "execution_count": 24,
   "id": "5ebafb93",
   "metadata": {},
   "outputs": [
    {
     "name": "stdout",
     "output_type": "stream",
     "text": [
      "Hello, my name is Alice and I am 30 years old.\n"
     ]
    }
   ],
   "source": [
    "## Question 11: Create a class Person with attributes name and age. Add a method greet() that prints \"Hello, my name is {name} and I am {age} years old.\"\n",
    "\n",
    "## Code:\n",
    "class Person:\n",
    "    def __init__(self, name, age):\n",
    "        self.name = name\n",
    "        self.age = age\n",
    "\n",
    "    def greet(self):\n",
    "        print(f\"Hello, my name is {self.name} and I am {self.age} years old.\")\n",
    "\n",
    "# Example usage:\n",
    "p = Person(\"Alice\", 30)\n",
    "p.greet()\n",
    "\n"
   ]
  },
  {
   "cell_type": "code",
   "execution_count": 25,
   "id": "f9068a01",
   "metadata": {},
   "outputs": [
    {
     "name": "stdout",
     "output_type": "stream",
     "text": [
      "Bob's average grade is 84.33\n"
     ]
    }
   ],
   "source": [
    "## Question 12:  Implement a class Student with attributes name and grades. Create a method average_grade() to compute the average of the grades.\n",
    "\n",
    "##code:\n",
    "class Student:\n",
    "    def __init__(self, name, grades):\n",
    "        self.name = name\n",
    "        self.grades = grades  # List of grades\n",
    "\n",
    "    def average_grade(self):\n",
    "        if self.grades:\n",
    "            return sum(self.grades) / len(self.grades)\n",
    "        return 0\n",
    "\n",
    "# Example usage:\n",
    "s = Student(\"Bob\", [85, 90, 78])\n",
    "print(f\"{s.name}'s average grade is {s.average_grade():.2f}\")\n",
    "\n"
   ]
  },
  {
   "cell_type": "code",
   "execution_count": 26,
   "id": "a71795fc",
   "metadata": {},
   "outputs": [
    {
     "name": "stdout",
     "output_type": "stream",
     "text": [
      "Area of rectangle: 20\n"
     ]
    }
   ],
   "source": [
    "## Question 13:  Create a class Rectangle with methods set_dimensions() to set the dimensions and area() to calculate the area.\n",
    "\n",
    "##Code:\n",
    "\n",
    "class Rectangle:\n",
    "    def __init__(self):\n",
    "        self.length = 0\n",
    "        self.width = 0\n",
    "\n",
    "    def set_dimensions(self, length, width):\n",
    "        self.length = length\n",
    "        self.width = width\n",
    "\n",
    "    def area(self):\n",
    "        return self.length * self.width\n",
    "\n",
    "# Example usage:\n",
    "r = Rectangle()\n",
    "r.set_dimensions(5, 4)\n",
    "print(f\"Area of rectangle: {r.area()}\")\n"
   ]
  },
  {
   "cell_type": "code",
   "execution_count": 27,
   "id": "d88a1e54",
   "metadata": {},
   "outputs": [
    {
     "name": "stdout",
     "output_type": "stream",
     "text": [
      "Employee salary: $800\n",
      "Manager salary: $1300\n"
     ]
    }
   ],
   "source": [
    "## Question 14: 4. Create a class Employee with a method calculate_salary() that computes the salary based on hours worked and hourly rate. Create a derived class Manager that adds a bonus to the salary\n",
    "\n",
    "## Code: \n",
    "class Employee:\n",
    "    def __init__(self, hours_worked, hourly_rate):\n",
    "        self.hours_worked = hours_worked\n",
    "        self.hourly_rate = hourly_rate\n",
    "\n",
    "    def calculate_salary(self):\n",
    "        return self.hours_worked * self.hourly_rate\n",
    "\n",
    "class Manager(Employee):\n",
    "    def __init__(self, hours_worked, hourly_rate, bonus):\n",
    "        super().__init__(hours_worked, hourly_rate)\n",
    "        self.bonus = bonus\n",
    "\n",
    "    def calculate_salary(self):\n",
    "        return super().calculate_salary() + self.bonus\n",
    "\n",
    "# Example usage:\n",
    "e = Employee(40, 20)\n",
    "print(f\"Employee salary: ${e.calculate_salary()}\")\n",
    "\n",
    "m = Manager(40, 25, 300)\n",
    "print(f\"Manager salary: ${m.calculate_salary()}\")\n",
    "\n"
   ]
  },
  {
   "cell_type": "code",
   "execution_count": 28,
   "id": "c88811bf",
   "metadata": {},
   "outputs": [
    {
     "name": "stdout",
     "output_type": "stream",
     "text": [
      "Total price: $1600\n"
     ]
    }
   ],
   "source": [
    "## Question 15: Create a class Product with attributes name, price, and quantity. Implement a method total_price() that calculates the total price of the product.\n",
    "\n",
    "## Code: \n",
    "\n",
    "class Product:\n",
    "    def __init__(self, name, price, quantity):\n",
    "        self.name = name\n",
    "        self.price = price\n",
    "        self.quantity = quantity\n",
    "\n",
    "    def total_price(self):\n",
    "        return self.price * self.quantity\n",
    "\n",
    "# Example usage:\n",
    "p = Product(\"Laptop\", 800, 2)\n",
    "print(f\"Total price: ${p.total_price()}\")\n"
   ]
  },
  {
   "cell_type": "code",
   "execution_count": 29,
   "id": "344b8a4d",
   "metadata": {},
   "outputs": [
    {
     "name": "stdout",
     "output_type": "stream",
     "text": [
      "Cow says: Moo\n",
      "Sheep says: Baa\n"
     ]
    }
   ],
   "source": [
    "## Question 16:  Create a class Animal with an abstract method sound(). Create two derived classes Cow and Sheep that implement the sound() method.\n",
    "\n",
    "## Code:\n",
    "\n",
    "from abc import ABC, abstractmethod\n",
    "\n",
    "class Animal(ABC):\n",
    "    @abstractmethod\n",
    "    def sound(self):\n",
    "        pass\n",
    "\n",
    "class Cow(Animal):\n",
    "    def sound(self):\n",
    "        return \"Moo\"\n",
    "\n",
    "class Sheep(Animal):\n",
    "    def sound(self):\n",
    "        return \"Baa\"\n",
    "\n",
    "# Example usage:\n",
    "cow = Cow()\n",
    "sheep = Sheep()\n",
    "print(f\"Cow says: {cow.sound()}\")\n",
    "print(f\"Sheep says: {sheep.sound()}\")\n",
    " "
   ]
  },
  {
   "cell_type": "code",
   "execution_count": 30,
   "id": "8f1a5c39",
   "metadata": {},
   "outputs": [
    {
     "name": "stdout",
     "output_type": "stream",
     "text": [
      "'1984' by George Orwell, published in 1949\n"
     ]
    }
   ],
   "source": [
    "## Question 17: Create a class Book with attributes title, author, and year_published. Add a method get_book_info() that returns a formatted string with the book's details.\n",
    "\n",
    "## Code:\n",
    "class Book:\n",
    "    def __init__(self, title, author, year_published):\n",
    "        self.title = title\n",
    "        self.author = author\n",
    "        self.year_published = year_published\n",
    "\n",
    "    def get_book_info(self):\n",
    "        return f\"'{self.title}' by {self.author}, published in {self.year_published}\"\n",
    "\n",
    "# Example usage:\n",
    "b = Book(\"1984\", \"George Orwell\", 1949)\n",
    "print(b.get_book_info())\n",
    "\n"
   ]
  },
  {
   "cell_type": "code",
   "execution_count": 31,
   "id": "7cd5f356",
   "metadata": {},
   "outputs": [
    {
     "name": "stdout",
     "output_type": "stream",
     "text": [
      "Mansion at 123 Luxury St, Price: $2000000, Rooms: 10\n"
     ]
    }
   ],
   "source": [
    "## Question 18:  Create a class House with attributes address and price. Create a derived class Mansion that adds an attribute number_of_rooms.\n",
    "\n",
    "## Code: \n",
    "\n",
    "class House:\n",
    "    def __init__(self, address, price):\n",
    "        self.address = address\n",
    "        self.price = price\n",
    "\n",
    "class Mansion(House):\n",
    "    def __init__(self, address, price, number_of_rooms):\n",
    "        super().__init__(address, price)\n",
    "        self.number_of_rooms = number_of_rooms\n",
    "\n",
    "# Example usage:\n",
    "m = Mansion(\"123 Luxury St\", 2000000, 10)\n",
    "print(f\"Mansion at {m.address}, Price: ${m.price}, Rooms: {m.number_of_rooms}\")\n"
   ]
  }
 ],
 "metadata": {
  "kernelspec": {
   "display_name": "Python 3",
   "language": "python",
   "name": "python3"
  },
  "language_info": {
   "codemirror_mode": {
    "name": "ipython",
    "version": 3
   },
   "file_extension": ".py",
   "mimetype": "text/x-python",
   "name": "python",
   "nbconvert_exporter": "python",
   "pygments_lexer": "ipython3",
   "version": "3.12.3"
  }
 },
 "nbformat": 4,
 "nbformat_minor": 5
}
